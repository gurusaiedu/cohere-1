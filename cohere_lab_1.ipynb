{
  "nbformat": 4,
  "nbformat_minor": 0,
  "metadata": {
    "colab": {
      "provenance": [],
      "authorship_tag": "ABX9TyOPY0FYMDjPBViK4hLYiWFV",
      "include_colab_link": true
    },
    "kernelspec": {
      "name": "python3",
      "display_name": "Python 3"
    },
    "language_info": {
      "name": "python"
    }
  },
  "cells": [
    {
      "cell_type": "markdown",
      "metadata": {
        "id": "view-in-github",
        "colab_type": "text"
      },
      "source": [
        "<a href=\"https://colab.research.google.com/github/gurusaiedu/cohere-1/blob/main/cohere_lab_1.ipynb\" target=\"_parent\"><img src=\"https://colab.research.google.com/assets/colab-badge.svg\" alt=\"Open In Colab\"/></a>"
      ]
    },
    {
      "cell_type": "code",
      "source": [
        "pip install cohere"
      ],
      "metadata": {
        "colab": {
          "base_uri": "https://localhost:8080/"
        },
        "id": "LDVhawMaFyP9",
        "outputId": "ca32755d-c6e9-4468-9984-ae20e54a6362"
      },
      "execution_count": 4,
      "outputs": [
        {
          "output_type": "stream",
          "name": "stdout",
          "text": [
            "Collecting cohere\n",
            "  Downloading cohere-4.48-py3-none-any.whl (52 kB)\n",
            "\u001b[?25l     \u001b[90m━━━━━━━━━━━━━━━━━━━━━━━━━━━━━━━━━━━━━━━━\u001b[0m \u001b[32m0.0/52.2 kB\u001b[0m \u001b[31m?\u001b[0m eta \u001b[36m-:--:--\u001b[0m\r\u001b[2K     \u001b[90m━━━━━━━━━━━━━━━━━━━━━━━━━━━━━━━━━━━━━━━━\u001b[0m \u001b[32m52.2/52.2 kB\u001b[0m \u001b[31m1.8 MB/s\u001b[0m eta \u001b[36m0:00:00\u001b[0m\n",
            "\u001b[?25hRequirement already satisfied: aiohttp<4.0,>=3.0 in /usr/local/lib/python3.10/dist-packages (from cohere) (3.9.3)\n",
            "Collecting backoff<3.0,>=2.0 (from cohere)\n",
            "  Downloading backoff-2.2.1-py3-none-any.whl (15 kB)\n",
            "Collecting fastavro<2.0,>=1.8 (from cohere)\n",
            "  Downloading fastavro-1.9.4-cp310-cp310-manylinux_2_17_x86_64.manylinux2014_x86_64.whl (3.1 MB)\n",
            "\u001b[2K     \u001b[90m━━━━━━━━━━━━━━━━━━━━━━━━━━━━━━━━━━━━━━━━\u001b[0m \u001b[32m3.1/3.1 MB\u001b[0m \u001b[31m24.5 MB/s\u001b[0m eta \u001b[36m0:00:00\u001b[0m\n",
            "\u001b[?25hCollecting importlib_metadata<7.0,>=6.0 (from cohere)\n",
            "  Downloading importlib_metadata-6.11.0-py3-none-any.whl (23 kB)\n",
            "Requirement already satisfied: requests<3.0.0,>=2.25.0 in /usr/local/lib/python3.10/dist-packages (from cohere) (2.31.0)\n",
            "Requirement already satisfied: urllib3<3,>=1.26 in /usr/local/lib/python3.10/dist-packages (from cohere) (2.0.7)\n",
            "Requirement already satisfied: aiosignal>=1.1.2 in /usr/local/lib/python3.10/dist-packages (from aiohttp<4.0,>=3.0->cohere) (1.3.1)\n",
            "Requirement already satisfied: attrs>=17.3.0 in /usr/local/lib/python3.10/dist-packages (from aiohttp<4.0,>=3.0->cohere) (23.2.0)\n",
            "Requirement already satisfied: frozenlist>=1.1.1 in /usr/local/lib/python3.10/dist-packages (from aiohttp<4.0,>=3.0->cohere) (1.4.1)\n",
            "Requirement already satisfied: multidict<7.0,>=4.5 in /usr/local/lib/python3.10/dist-packages (from aiohttp<4.0,>=3.0->cohere) (6.0.5)\n",
            "Requirement already satisfied: yarl<2.0,>=1.0 in /usr/local/lib/python3.10/dist-packages (from aiohttp<4.0,>=3.0->cohere) (1.9.4)\n",
            "Requirement already satisfied: async-timeout<5.0,>=4.0 in /usr/local/lib/python3.10/dist-packages (from aiohttp<4.0,>=3.0->cohere) (4.0.3)\n",
            "Requirement already satisfied: zipp>=0.5 in /usr/local/lib/python3.10/dist-packages (from importlib_metadata<7.0,>=6.0->cohere) (3.17.0)\n",
            "Requirement already satisfied: charset-normalizer<4,>=2 in /usr/local/lib/python3.10/dist-packages (from requests<3.0.0,>=2.25.0->cohere) (3.3.2)\n",
            "Requirement already satisfied: idna<4,>=2.5 in /usr/local/lib/python3.10/dist-packages (from requests<3.0.0,>=2.25.0->cohere) (3.6)\n",
            "Requirement already satisfied: certifi>=2017.4.17 in /usr/local/lib/python3.10/dist-packages (from requests<3.0.0,>=2.25.0->cohere) (2024.2.2)\n",
            "Installing collected packages: importlib_metadata, fastavro, backoff, cohere\n",
            "  Attempting uninstall: importlib_metadata\n",
            "    Found existing installation: importlib-metadata 7.0.1\n",
            "    Uninstalling importlib-metadata-7.0.1:\n",
            "      Successfully uninstalled importlib-metadata-7.0.1\n",
            "Successfully installed backoff-2.2.1 cohere-4.48 fastavro-1.9.4 importlib_metadata-6.11.0\n"
          ]
        }
      ]
    },
    {
      "cell_type": "markdown",
      "source": [
        "Refer the below link for API Key   :::  \n",
        "https://txt.cohere.com/free-developer-tier-announcement/"
      ],
      "metadata": {
        "id": "lOHPfu-dG_Ml"
      }
    },
    {
      "cell_type": "markdown",
      "source": [
        "Refer the below link for coher models :::\n",
        "https://docs.cohere.com/docs/models#:~:text=Command,well%2Dsuited%20for%20chat%20applications."
      ],
      "metadata": {
        "id": "4mOim2kAIAhs"
      }
    },
    {
      "cell_type": "code",
      "execution_count": 5,
      "metadata": {
        "id": "0FPxr5fF9GxH"
      },
      "outputs": [],
      "source": [
        "cohere_api_key=\"btu0gWrLzedOkMOrjGC1k6gEhVbIcR0GdsrNlT24\"\n"
      ]
    },
    {
      "cell_type": "code",
      "source": [
        "import cohere\n",
        "\n",
        "# initialize the Cohere Client with an API Key\n",
        "co = cohere.Client(cohere_api_key)\n",
        "\n",
        "# generate a prediction for a prompt\n",
        "response = co.chat(message='even or odd  program in python', model='command')\n",
        "response\n",
        "# print the predicted text\n",
        "#print(f'Chatbot: {prediction.text}')"
      ],
      "metadata": {
        "colab": {
          "base_uri": "https://localhost:8080/"
        },
        "id": "hC_bqYjr9Hqm",
        "outputId": "52fd58ec-85db-4fea-cc48-2aa7f27a241b"
      },
      "execution_count": 9,
      "outputs": [
        {
          "output_type": "execute_result",
          "data": {
            "text/plain": [
              "cohere.Chat {\n",
              "\tid: e5b29f4c-331f-4884-9eb4-0dfeea1f2d39\n",
              "\tresponse_id: e5b29f4c-331f-4884-9eb4-0dfeea1f2d39\n",
              "\tgeneration_id: e754958f-aedf-48a1-ba5a-3d6855a9a1cf\n",
              "\tmessage: even or odd  program in python\n",
              "\ttext: Here is a simple Python program that you can use to determine whether a given number is even or odd:\n",
              "```python\n",
              "def is_even_or_odd(number):\n",
              "    if number % 2 == 0:\n",
              "        return \"The number is even.\"\n",
              "    else:\n",
              "        return \"The number is odd.\"\n",
              "\n",
              "# Get a number from the user\n",
              "user_number = int(input(\"Enter a number: \"))\n",
              "\n",
              "# Check if the number is even or odd\n",
              "result = is_even_or_odd(user_number)\n",
              "\n",
              "# Print the result\n",
              "print(result)\n",
              "```\n",
              "\n",
              "The `is_even_or_odd` function in this program accepts a number as an input and determines whether it is even or odd by using the modulo operator (`%`). If the number divided by 2 has no leftovers, it is even; otherwise, it is odd.\n",
              "\n",
              "When asked for a number, please provide one, and the application will promptly inform you if it is even or odd.\n",
              "\tconversation_id: None\n",
              "\tprompt: None\n",
              "\tchat_history: None\n",
              "\tpreamble: None\n",
              "\tclient: <cohere.client.Client object at 0x78de3f717b20>\n",
              "\ttoken_count: {'prompt_tokens': 69, 'response_tokens': 211, 'total_tokens': 280, 'billed_tokens': 269}\n",
              "\tmeta: {'api_version': {'version': '1'}, 'billed_units': {'input_tokens': 58, 'output_tokens': 211}}\n",
              "\tis_search_required: None\n",
              "\tcitations: None\n",
              "\tdocuments: None\n",
              "\tsearch_results: None\n",
              "\tsearch_queries: None\n",
              "}"
            ]
          },
          "metadata": {},
          "execution_count": 9
        }
      ]
    },
    {
      "cell_type": "code",
      "source": [
        "response.text"
      ],
      "metadata": {
        "colab": {
          "base_uri": "https://localhost:8080/",
          "height": 122
        },
        "id": "wsKjzPt-ForE",
        "outputId": "6e2ebb90-5b28-444b-e316-d2f368c3a238"
      },
      "execution_count": 10,
      "outputs": [
        {
          "output_type": "execute_result",
          "data": {
            "text/plain": [
              "'Here is a simple Python program that you can use to determine whether a given number is even or odd:\\n```python\\ndef is_even_or_odd(number):\\n    if number % 2 == 0:\\n        return \"The number is even.\"\\n    else:\\n        return \"The number is odd.\"\\n\\n# Get a number from the user\\nuser_number = int(input(\"Enter a number: \"))\\n\\n# Check if the number is even or odd\\nresult = is_even_or_odd(user_number)\\n\\n# Print the result\\nprint(result)\\n```\\n\\nThe `is_even_or_odd` function in this program accepts a number as an input and determines whether it is even or odd by using the modulo operator (`%`). If the number divided by 2 has no leftovers, it is even; otherwise, it is odd.\\n\\nWhen asked for a number, please provide one, and the application will promptly inform you if it is even or odd.'"
            ],
            "application/vnd.google.colaboratory.intrinsic+json": {
              "type": "string"
            }
          },
          "metadata": {},
          "execution_count": 10
        }
      ]
    },
    {
      "cell_type": "code",
      "source": [
        "# print the predicted text\n",
        "print(f'Chatbot: {response.text}')\n"
      ],
      "metadata": {
        "colab": {
          "base_uri": "https://localhost:8080/"
        },
        "id": "RFxA9b3hGEkB",
        "outputId": "5885fddc-2326-4e82-b2d8-49b0b3f65ec6"
      },
      "execution_count": 11,
      "outputs": [
        {
          "output_type": "stream",
          "name": "stdout",
          "text": [
            "Chatbot: Here is a simple Python program that you can use to determine whether a given number is even or odd:\n",
            "```python\n",
            "def is_even_or_odd(number):\n",
            "    if number % 2 == 0:\n",
            "        return \"The number is even.\"\n",
            "    else:\n",
            "        return \"The number is odd.\"\n",
            "\n",
            "# Get a number from the user\n",
            "user_number = int(input(\"Enter a number: \"))\n",
            "\n",
            "# Check if the number is even or odd\n",
            "result = is_even_or_odd(user_number)\n",
            "\n",
            "# Print the result\n",
            "print(result)\n",
            "```\n",
            "\n",
            "The `is_even_or_odd` function in this program accepts a number as an input and determines whether it is even or odd by using the modulo operator (`%`). If the number divided by 2 has no leftovers, it is even; otherwise, it is odd.\n",
            "\n",
            "When asked for a number, please provide one, and the application will promptly inform you if it is even or odd.\n"
          ]
        }
      ]
    },
    {
      "cell_type": "code",
      "source": [
        "co.tokenize(\"hey this is gurusai\")"
      ],
      "metadata": {
        "colab": {
          "base_uri": "https://localhost:8080/",
          "height": 83
        },
        "id": "2Kys0F8IGJBN",
        "outputId": "68e8e5c4-c718-41ba-9962-9c06d7b182d6"
      },
      "execution_count": null,
      "outputs": [
        {
          "output_type": "execute_result",
          "data": {
            "text/plain": [
              "cohere.Tokens {\n",
              "\ttokens: [22268, 1867, 1740, 65452, 3061]\n",
              "\ttoken_strings: ['hey', ' this', ' is', ' gurus', 'ai']\n",
              "\tmeta: {'api_version': {'version': '1'}}\n",
              "}"
            ],
            "text/html": [
              "<style type=\"text/css\">\n",
              "#T_32821_row0_col0, #T_32821_row0_col1, #T_32821_row0_col2, #T_32821_row0_col3, #T_32821_row0_col4, #T_32821_row1_col0, #T_32821_row1_col1, #T_32821_row1_col2, #T_32821_row1_col3, #T_32821_row1_col4 {\n",
              "  font-size: 90%;\n",
              "}\n",
              "</style>\n",
              "<table id=\"T_32821\">\n",
              "  <thead>\n",
              "    <tr>\n",
              "      <th class=\"blank level0\" >&nbsp;</th>\n",
              "      <th id=\"T_32821_level0_col0\" class=\"col_heading level0 col0\" >0</th>\n",
              "      <th id=\"T_32821_level0_col1\" class=\"col_heading level0 col1\" >1</th>\n",
              "      <th id=\"T_32821_level0_col2\" class=\"col_heading level0 col2\" >2</th>\n",
              "      <th id=\"T_32821_level0_col3\" class=\"col_heading level0 col3\" >3</th>\n",
              "      <th id=\"T_32821_level0_col4\" class=\"col_heading level0 col4\" >4</th>\n",
              "    </tr>\n",
              "  </thead>\n",
              "  <tbody>\n",
              "    <tr>\n",
              "      <th id=\"T_32821_level0_row0\" class=\"row_heading level0 row0\" >token_strings</th>\n",
              "      <td id=\"T_32821_row0_col0\" class=\"data row0 col0\" >hey</td>\n",
              "      <td id=\"T_32821_row0_col1\" class=\"data row0 col1\" > this</td>\n",
              "      <td id=\"T_32821_row0_col2\" class=\"data row0 col2\" > is</td>\n",
              "      <td id=\"T_32821_row0_col3\" class=\"data row0 col3\" > gurus</td>\n",
              "      <td id=\"T_32821_row0_col4\" class=\"data row0 col4\" >ai</td>\n",
              "    </tr>\n",
              "    <tr>\n",
              "      <th id=\"T_32821_level0_row1\" class=\"row_heading level0 row1\" >tokens</th>\n",
              "      <td id=\"T_32821_row1_col0\" class=\"data row1 col0\" >22268</td>\n",
              "      <td id=\"T_32821_row1_col1\" class=\"data row1 col1\" >1867</td>\n",
              "      <td id=\"T_32821_row1_col2\" class=\"data row1 col2\" >1740</td>\n",
              "      <td id=\"T_32821_row1_col3\" class=\"data row1 col3\" >65452</td>\n",
              "      <td id=\"T_32821_row1_col4\" class=\"data row1 col4\" >3061</td>\n",
              "    </tr>\n",
              "  </tbody>\n",
              "</table>\n"
            ]
          },
          "metadata": {},
          "execution_count": 25
        }
      ]
    },
    {
      "cell_type": "code",
      "source": [
        "l=[\t22268,\t1867,\t1740,\t65452\t,3061]\n",
        "co.detokenize(l)"
      ],
      "metadata": {
        "colab": {
          "base_uri": "https://localhost:8080/"
        },
        "id": "Bad9coTDIqR_",
        "outputId": "94262c01-2378-4879-c15d-c67aff07e43a"
      },
      "execution_count": null,
      "outputs": [
        {
          "output_type": "execute_result",
          "data": {
            "text/plain": [
              "cohere.Detokenization {\n",
              "\ttext: hey this is gurusai\n",
              "\tmeta: {'api_version': {'version': '1'}}\n",
              "}"
            ]
          },
          "metadata": {},
          "execution_count": 26
        }
      ]
    },
    {
      "cell_type": "code",
      "source": [
        "co.detect_language([\"hey hello\"])"
      ],
      "metadata": {
        "colab": {
          "base_uri": "https://localhost:8080/"
        },
        "id": "-iajLabLRzVo",
        "outputId": "1191e95d-daa0-4ad3-9a7d-3e2f40c60a73"
      },
      "execution_count": null,
      "outputs": [
        {
          "output_type": "execute_result",
          "data": {
            "text/plain": [
              "cohere.DetectLanguageResponse {\n",
              "\tresults: [Language<language_code: \"en\", language_name: \"English\">]\n",
              "\tmeta: {'api_version': {'version': '1'}}\n",
              "}"
            ]
          },
          "metadata": {},
          "execution_count": 28
        }
      ]
    },
    {
      "cell_type": "code",
      "source": [
        "co.detect_language([\"ola\"])"
      ],
      "metadata": {
        "colab": {
          "base_uri": "https://localhost:8080/"
        },
        "id": "TEB8eagyTFxa",
        "outputId": "280520a4-3f24-412a-8ce1-07a3f5fc1b0f"
      },
      "execution_count": null,
      "outputs": [
        {
          "output_type": "execute_result",
          "data": {
            "text/plain": [
              "cohere.DetectLanguageResponse {\n",
              "\tresults: [Language<language_code: \"tr\", language_name: \"Turkish\">]\n",
              "\tmeta: {'api_version': {'version': '1'}}\n",
              "}"
            ]
          },
          "metadata": {},
          "execution_count": 29
        }
      ]
    },
    {
      "cell_type": "code",
      "source": [
        "co.detect_language([\"హలో\"])"
      ],
      "metadata": {
        "colab": {
          "base_uri": "https://localhost:8080/"
        },
        "id": "L4EaJg1QTOpV",
        "outputId": "e38027a0-3ebc-4543-9427-f2098bb3e58a"
      },
      "execution_count": null,
      "outputs": [
        {
          "output_type": "execute_result",
          "data": {
            "text/plain": [
              "cohere.DetectLanguageResponse {\n",
              "\tresults: [Language<language_code: \"te\", language_name: \"Telugu\">]\n",
              "\tmeta: {'api_version': {'version': '1'}}\n",
              "}"
            ]
          },
          "metadata": {},
          "execution_count": 33
        }
      ]
    },
    {
      "cell_type": "code",
      "source": [],
      "metadata": {
        "id": "9B0TBf8_TSAV"
      },
      "execution_count": null,
      "outputs": []
    },
    {
      "cell_type": "markdown",
      "source": [
        "for more details refer : https://github.com/cohere-ai/cohere-python/tree/main"
      ],
      "metadata": {
        "id": "IOPxz1CyT2CC"
      }
    },
    {
      "cell_type": "code",
      "source": [
        "response = co.chat(message='how to say\"i love you \" in one word ', model='command')\n",
        "print(f'Chatbot: {response.text}')"
      ],
      "metadata": {
        "id": "vIV4wEfmT4Lc",
        "colab": {
          "base_uri": "https://localhost:8080/"
        },
        "outputId": "d5819709-154c-4766-f093-6e5b850c1fab"
      },
      "execution_count": 8,
      "outputs": [
        {
          "output_type": "stream",
          "name": "stdout",
          "text": [
            "Chatbot: The phrase \"I love you\" can be expressed in one word in many different languages: \n",
            "\n",
            "- In English, you can use the word \"love\" itself. \n",
            "\n",
            "- In Spanish, you can use the word \"amor\". \n",
            "\n",
            "- In French, you can use the word \"amour\". \n",
            "\n",
            "- In Italian, you can use the word \"amore\". \n",
            "\n",
            "These words directly translate to \"love\" in English, and imply the strong emotion and deep caring that the phrase \"I love you\" conveys.\n"
          ]
        }
      ]
    },
    {
      "cell_type": "code",
      "source": [],
      "metadata": {
        "id": "llNpziR2ZCMQ"
      },
      "execution_count": null,
      "outputs": []
    }
  ]
}