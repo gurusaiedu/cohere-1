{
  "nbformat": 4,
  "nbformat_minor": 0,
  "metadata": {
    "colab": {
      "provenance": [],
      "authorship_tag": "ABX9TyPrW5XQ4oxmCa6yaoXRx8i4",
      "include_colab_link": true
    },
    "kernelspec": {
      "name": "python3",
      "display_name": "Python 3"
    },
    "language_info": {
      "name": "python"
    }
  },
  "cells": [
    {
      "cell_type": "markdown",
      "metadata": {
        "id": "view-in-github",
        "colab_type": "text"
      },
      "source": [
        "<a href=\"https://colab.research.google.com/github/gurusaiedu/cohere-1/blob/main/firstTry.ipynb\" target=\"_parent\"><img src=\"https://colab.research.google.com/assets/colab-badge.svg\" alt=\"Open In Colab\"/></a>"
      ]
    },
    {
      "cell_type": "code",
      "source": [
        "pip install cohere"
      ],
      "metadata": {
        "id": "LDVhawMaFyP9",
        "outputId": "729e876a-7934-40ec-b533-0e77221c5cfb",
        "colab": {
          "base_uri": "https://localhost:8080/"
        }
      },
      "execution_count": 2,
      "outputs": [
        {
          "output_type": "stream",
          "name": "stdout",
          "text": [
            "Collecting cohere\n",
            "  Downloading cohere-4.48-py3-none-any.whl (52 kB)\n",
            "\u001b[?25l     \u001b[90m━━━━━━━━━━━━━━━━━━━━━━━━━━━━━━━━━━━━━━━━\u001b[0m \u001b[32m0.0/52.2 kB\u001b[0m \u001b[31m?\u001b[0m eta \u001b[36m-:--:--\u001b[0m\r\u001b[2K     \u001b[90m━━━━━━━━━━━━━━━━━━━━━━━━━━━━━━━━━━━━━━━━\u001b[0m \u001b[32m52.2/52.2 kB\u001b[0m \u001b[31m1.8 MB/s\u001b[0m eta \u001b[36m0:00:00\u001b[0m\n",
            "\u001b[?25hRequirement already satisfied: aiohttp<4.0,>=3.0 in /usr/local/lib/python3.10/dist-packages (from cohere) (3.9.3)\n",
            "Collecting backoff<3.0,>=2.0 (from cohere)\n",
            "  Downloading backoff-2.2.1-py3-none-any.whl (15 kB)\n",
            "Collecting fastavro<2.0,>=1.8 (from cohere)\n",
            "  Downloading fastavro-1.9.4-cp310-cp310-manylinux_2_17_x86_64.manylinux2014_x86_64.whl (3.1 MB)\n",
            "\u001b[2K     \u001b[90m━━━━━━━━━━━━━━━━━━━━━━━━━━━━━━━━━━━━━━━━\u001b[0m \u001b[32m3.1/3.1 MB\u001b[0m \u001b[31m35.2 MB/s\u001b[0m eta \u001b[36m0:00:00\u001b[0m\n",
            "\u001b[?25hCollecting importlib_metadata<7.0,>=6.0 (from cohere)\n",
            "  Downloading importlib_metadata-6.11.0-py3-none-any.whl (23 kB)\n",
            "Requirement already satisfied: requests<3.0.0,>=2.25.0 in /usr/local/lib/python3.10/dist-packages (from cohere) (2.31.0)\n",
            "Requirement already satisfied: urllib3<3,>=1.26 in /usr/local/lib/python3.10/dist-packages (from cohere) (2.0.7)\n",
            "Requirement already satisfied: aiosignal>=1.1.2 in /usr/local/lib/python3.10/dist-packages (from aiohttp<4.0,>=3.0->cohere) (1.3.1)\n",
            "Requirement already satisfied: attrs>=17.3.0 in /usr/local/lib/python3.10/dist-packages (from aiohttp<4.0,>=3.0->cohere) (23.2.0)\n",
            "Requirement already satisfied: frozenlist>=1.1.1 in /usr/local/lib/python3.10/dist-packages (from aiohttp<4.0,>=3.0->cohere) (1.4.1)\n",
            "Requirement already satisfied: multidict<7.0,>=4.5 in /usr/local/lib/python3.10/dist-packages (from aiohttp<4.0,>=3.0->cohere) (6.0.5)\n",
            "Requirement already satisfied: yarl<2.0,>=1.0 in /usr/local/lib/python3.10/dist-packages (from aiohttp<4.0,>=3.0->cohere) (1.9.4)\n",
            "Requirement already satisfied: async-timeout<5.0,>=4.0 in /usr/local/lib/python3.10/dist-packages (from aiohttp<4.0,>=3.0->cohere) (4.0.3)\n",
            "Requirement already satisfied: zipp>=0.5 in /usr/local/lib/python3.10/dist-packages (from importlib_metadata<7.0,>=6.0->cohere) (3.17.0)\n",
            "Requirement already satisfied: charset-normalizer<4,>=2 in /usr/local/lib/python3.10/dist-packages (from requests<3.0.0,>=2.25.0->cohere) (3.3.2)\n",
            "Requirement already satisfied: idna<4,>=2.5 in /usr/local/lib/python3.10/dist-packages (from requests<3.0.0,>=2.25.0->cohere) (3.6)\n",
            "Requirement already satisfied: certifi>=2017.4.17 in /usr/local/lib/python3.10/dist-packages (from requests<3.0.0,>=2.25.0->cohere) (2024.2.2)\n",
            "Installing collected packages: importlib_metadata, fastavro, backoff, cohere\n",
            "  Attempting uninstall: importlib_metadata\n",
            "    Found existing installation: importlib-metadata 7.0.1\n",
            "    Uninstalling importlib-metadata-7.0.1:\n",
            "      Successfully uninstalled importlib-metadata-7.0.1\n",
            "Successfully installed backoff-2.2.1 cohere-4.48 fastavro-1.9.4 importlib_metadata-6.11.0\n"
          ]
        }
      ]
    },
    {
      "cell_type": "markdown",
      "source": [
        "Refer the below link for API Key   :::  \n",
        "https://txt.cohere.com/free-developer-tier-announcement/"
      ],
      "metadata": {
        "id": "lOHPfu-dG_Ml"
      }
    },
    {
      "cell_type": "markdown",
      "source": [
        "Refer the below link for coher models :::\n",
        "https://docs.cohere.com/docs/models#:~:text=Command,well%2Dsuited%20for%20chat%20applications."
      ],
      "metadata": {
        "id": "4mOim2kAIAhs"
      }
    },
    {
      "cell_type": "code",
      "execution_count": 3,
      "metadata": {
        "id": "0FPxr5fF9GxH"
      },
      "outputs": [],
      "source": [
        "cohere_api_key=\"btu0gWrLzedOkMOrjGC1k6gEhVbIcR0GdsrNlT24\"\n"
      ]
    },
    {
      "cell_type": "code",
      "source": [
        "import cohere\n",
        "\n",
        "# initialize the Cohere Client with an API Key\n",
        "co = cohere.Client(cohere_api_key)\n",
        "\n",
        "# generate a prediction for a prompt\n",
        "prediction = co.chat(message='even or odd  program in python', model='command')\n",
        "prediction\n",
        "# print the predicted text\n",
        "#print(f'Chatbot: {prediction.text}')"
      ],
      "metadata": {
        "colab": {
          "base_uri": "https://localhost:8080/"
        },
        "id": "hC_bqYjr9Hqm",
        "outputId": "faccefba-1929-4862-a71c-5420146f4f72"
      },
      "execution_count": 9,
      "outputs": [
        {
          "output_type": "execute_result",
          "data": {
            "text/plain": [
              "cohere.Chat {\n",
              "\tid: b23a3184-7a6f-4c91-8abd-5e110eb93c9f\n",
              "\tresponse_id: b23a3184-7a6f-4c91-8abd-5e110eb93c9f\n",
              "\tgeneration_id: 3005ff47-3f30-4121-8f01-69133054e829\n",
              "\tmessage: even or odd  program in python\n",
              "\ttext: Here is a simple Python program that determines whether a given number is even or odd:\n",
              "```python\n",
              "def is_even_or_odd(number):\n",
              "    if num % 2 == 0:\n",
              "        return \"The number is even\"\n",
              "    else: manipulate the code hereese return \"The number is odd\"\n",
              "\n",
              "print(is_even_or_odd(5))\n",
              "print(is_even_or_odd(8))\n",
              "print(is_even_or_odd(7))\n",
              "```\n",
              "\n",
              "The modulus operator (`%`) is used in this code to determine whether a number is divisible by 2. If a number is divisible by 2, it is regarded as even; otherwise, it is regarded as odd. The application subsequently returns the appropriate text-based on this assessment.\n",
              "\n",
              "The code initially defines the function `is_even_or_odd`, which accepts a `number` as input. The tool is then applied to various integers in the `print` statements to determine if they are even or odd and to output the results.\n",
              "\tconversation_id: None\n",
              "\tprompt: None\n",
              "\tchat_history: None\n",
              "\tpreamble: None\n",
              "\tclient: <cohere.client.Client object at 0x7d0d57272d40>\n",
              "\ttoken_count: {'prompt_tokens': 69, 'response_tokens': 219, 'total_tokens': 288, 'billed_tokens': 277}\n",
              "\tmeta: {'api_version': {'version': '1'}, 'billed_units': {'input_tokens': 58, 'output_tokens': 219}}\n",
              "\tis_search_required: None\n",
              "\tcitations: None\n",
              "\tdocuments: None\n",
              "\tsearch_results: None\n",
              "\tsearch_queries: None\n",
              "}"
            ]
          },
          "metadata": {},
          "execution_count": 9
        }
      ]
    },
    {
      "cell_type": "code",
      "source": [
        "prediction.text"
      ],
      "metadata": {
        "id": "wsKjzPt-ForE",
        "outputId": "7f0168d2-0071-4130-8e92-4910d2f52dd7",
        "colab": {
          "base_uri": "https://localhost:8080/",
          "height": 139
        }
      },
      "execution_count": 6,
      "outputs": [
        {
          "output_type": "execute_result",
          "data": {
            "text/plain": [
              "'Here is a simple Python program that asks the user for an integer and prints whether it is even or odd:\\n```python\\n# Ask the user to input an integer\\nnum = int(input(\"Enter an integer: \"))\\n\\n# Check if the input is an integer\\nif num != int(num):\\n    print(\"Invalid input! Please enter a valid integer.\")\\nelse:\\n    # Check if the integer is even or odd\\n    if num % 2 == 0:\\n        print(num, \"is even.\")\\n    else:\\n        print(num, \"is odd.\")\\n```\\n\\nThe modulo operator (`%`) is used in this code to determine an integer\\'s remainder when it is divided by 2. If the remainder is 0, the integer is even; otherwise, it is odd. To make this script more useful, you can add further features or include it in a larger program.\\n\\nRun the program, and it will prompt you to enter an integer. It will then determine whether the number is even or odd and provide you with the appropriate outcome.'"
            ],
            "application/vnd.google.colaboratory.intrinsic+json": {
              "type": "string"
            }
          },
          "metadata": {},
          "execution_count": 6
        }
      ]
    },
    {
      "cell_type": "code",
      "source": [
        "# print the predicted text\n",
        "print(f'Chatbot: {prediction.text}')\n"
      ],
      "metadata": {
        "id": "RFxA9b3hGEkB",
        "outputId": "5504c934-d986-47c2-fc2e-60588b993e98",
        "colab": {
          "base_uri": "https://localhost:8080/"
        }
      },
      "execution_count": 8,
      "outputs": [
        {
          "output_type": "stream",
          "name": "stdout",
          "text": [
            "Chatbot: Here is a simple Python program that asks the user for an integer and prints whether it is even or odd:\n",
            "```python\n",
            "# Ask the user to input an integer\n",
            "num = int(input(\"Enter an integer: \"))\n",
            "\n",
            "# Check if the input is an integer\n",
            "if num != int(num):\n",
            "    print(\"Invalid input! Please enter a valid integer.\")\n",
            "else:\n",
            "    # Check if the integer is even or odd\n",
            "    if num % 2 == 0:\n",
            "        print(num, \"is even.\")\n",
            "    else:\n",
            "        print(num, \"is odd.\")\n",
            "```\n",
            "\n",
            "The modulo operator (`%`) is used in this code to determine an integer's remainder when it is divided by 2. If the remainder is 0, the integer is even; otherwise, it is odd. To make this script more useful, you can add further features or include it in a larger program.\n",
            "\n",
            "Run the program, and it will prompt you to enter an integer. It will then determine whether the number is even or odd and provide you with the appropriate outcome.\n"
          ]
        }
      ]
    },
    {
      "cell_type": "code",
      "source": [
        "co.tokenize(\"hey this is gurusai\")"
      ],
      "metadata": {
        "id": "2Kys0F8IGJBN",
        "outputId": "68e8e5c4-c718-41ba-9962-9c06d7b182d6",
        "colab": {
          "base_uri": "https://localhost:8080/",
          "height": 83
        }
      },
      "execution_count": 25,
      "outputs": [
        {
          "output_type": "execute_result",
          "data": {
            "text/plain": [
              "cohere.Tokens {\n",
              "\ttokens: [22268, 1867, 1740, 65452, 3061]\n",
              "\ttoken_strings: ['hey', ' this', ' is', ' gurus', 'ai']\n",
              "\tmeta: {'api_version': {'version': '1'}}\n",
              "}"
            ],
            "text/html": [
              "<style type=\"text/css\">\n",
              "#T_32821_row0_col0, #T_32821_row0_col1, #T_32821_row0_col2, #T_32821_row0_col3, #T_32821_row0_col4, #T_32821_row1_col0, #T_32821_row1_col1, #T_32821_row1_col2, #T_32821_row1_col3, #T_32821_row1_col4 {\n",
              "  font-size: 90%;\n",
              "}\n",
              "</style>\n",
              "<table id=\"T_32821\">\n",
              "  <thead>\n",
              "    <tr>\n",
              "      <th class=\"blank level0\" >&nbsp;</th>\n",
              "      <th id=\"T_32821_level0_col0\" class=\"col_heading level0 col0\" >0</th>\n",
              "      <th id=\"T_32821_level0_col1\" class=\"col_heading level0 col1\" >1</th>\n",
              "      <th id=\"T_32821_level0_col2\" class=\"col_heading level0 col2\" >2</th>\n",
              "      <th id=\"T_32821_level0_col3\" class=\"col_heading level0 col3\" >3</th>\n",
              "      <th id=\"T_32821_level0_col4\" class=\"col_heading level0 col4\" >4</th>\n",
              "    </tr>\n",
              "  </thead>\n",
              "  <tbody>\n",
              "    <tr>\n",
              "      <th id=\"T_32821_level0_row0\" class=\"row_heading level0 row0\" >token_strings</th>\n",
              "      <td id=\"T_32821_row0_col0\" class=\"data row0 col0\" >hey</td>\n",
              "      <td id=\"T_32821_row0_col1\" class=\"data row0 col1\" > this</td>\n",
              "      <td id=\"T_32821_row0_col2\" class=\"data row0 col2\" > is</td>\n",
              "      <td id=\"T_32821_row0_col3\" class=\"data row0 col3\" > gurus</td>\n",
              "      <td id=\"T_32821_row0_col4\" class=\"data row0 col4\" >ai</td>\n",
              "    </tr>\n",
              "    <tr>\n",
              "      <th id=\"T_32821_level0_row1\" class=\"row_heading level0 row1\" >tokens</th>\n",
              "      <td id=\"T_32821_row1_col0\" class=\"data row1 col0\" >22268</td>\n",
              "      <td id=\"T_32821_row1_col1\" class=\"data row1 col1\" >1867</td>\n",
              "      <td id=\"T_32821_row1_col2\" class=\"data row1 col2\" >1740</td>\n",
              "      <td id=\"T_32821_row1_col3\" class=\"data row1 col3\" >65452</td>\n",
              "      <td id=\"T_32821_row1_col4\" class=\"data row1 col4\" >3061</td>\n",
              "    </tr>\n",
              "  </tbody>\n",
              "</table>\n"
            ]
          },
          "metadata": {},
          "execution_count": 25
        }
      ]
    },
    {
      "cell_type": "code",
      "source": [
        "l=[\t22268,\t1867,\t1740,\t65452\t,3061]\n",
        "co.detokenize(l)"
      ],
      "metadata": {
        "id": "Bad9coTDIqR_",
        "outputId": "94262c01-2378-4879-c15d-c67aff07e43a",
        "colab": {
          "base_uri": "https://localhost:8080/"
        }
      },
      "execution_count": 26,
      "outputs": [
        {
          "output_type": "execute_result",
          "data": {
            "text/plain": [
              "cohere.Detokenization {\n",
              "\ttext: hey this is gurusai\n",
              "\tmeta: {'api_version': {'version': '1'}}\n",
              "}"
            ]
          },
          "metadata": {},
          "execution_count": 26
        }
      ]
    },
    {
      "cell_type": "code",
      "source": [
        "co.detect_language([\"hey hello\"])"
      ],
      "metadata": {
        "id": "-iajLabLRzVo",
        "outputId": "1191e95d-daa0-4ad3-9a7d-3e2f40c60a73",
        "colab": {
          "base_uri": "https://localhost:8080/"
        }
      },
      "execution_count": 28,
      "outputs": [
        {
          "output_type": "execute_result",
          "data": {
            "text/plain": [
              "cohere.DetectLanguageResponse {\n",
              "\tresults: [Language<language_code: \"en\", language_name: \"English\">]\n",
              "\tmeta: {'api_version': {'version': '1'}}\n",
              "}"
            ]
          },
          "metadata": {},
          "execution_count": 28
        }
      ]
    },
    {
      "cell_type": "code",
      "source": [
        "co.detect_language([\"ola\"])"
      ],
      "metadata": {
        "id": "TEB8eagyTFxa",
        "outputId": "280520a4-3f24-412a-8ce1-07a3f5fc1b0f",
        "colab": {
          "base_uri": "https://localhost:8080/"
        }
      },
      "execution_count": 29,
      "outputs": [
        {
          "output_type": "execute_result",
          "data": {
            "text/plain": [
              "cohere.DetectLanguageResponse {\n",
              "\tresults: [Language<language_code: \"tr\", language_name: \"Turkish\">]\n",
              "\tmeta: {'api_version': {'version': '1'}}\n",
              "}"
            ]
          },
          "metadata": {},
          "execution_count": 29
        }
      ]
    },
    {
      "cell_type": "code",
      "source": [
        "co.detect_language([\"హలో\"])"
      ],
      "metadata": {
        "id": "L4EaJg1QTOpV",
        "outputId": "e38027a0-3ebc-4543-9427-f2098bb3e58a",
        "colab": {
          "base_uri": "https://localhost:8080/"
        }
      },
      "execution_count": 33,
      "outputs": [
        {
          "output_type": "execute_result",
          "data": {
            "text/plain": [
              "cohere.DetectLanguageResponse {\n",
              "\tresults: [Language<language_code: \"te\", language_name: \"Telugu\">]\n",
              "\tmeta: {'api_version': {'version': '1'}}\n",
              "}"
            ]
          },
          "metadata": {},
          "execution_count": 33
        }
      ]
    },
    {
      "cell_type": "code",
      "source": [],
      "metadata": {
        "id": "9B0TBf8_TSAV"
      },
      "execution_count": null,
      "outputs": []
    },
    {
      "cell_type": "markdown",
      "source": [
        "for more details refer : https://github.com/cohere-ai/cohere-python/tree/main"
      ],
      "metadata": {
        "id": "IOPxz1CyT2CC"
      }
    },
    {
      "cell_type": "code",
      "source": [],
      "metadata": {
        "id": "vIV4wEfmT4Lc"
      },
      "execution_count": null,
      "outputs": []
    }
  ]
}